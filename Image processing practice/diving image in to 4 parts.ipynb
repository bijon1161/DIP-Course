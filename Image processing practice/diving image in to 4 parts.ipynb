{
 "cells": [
  {
   "cell_type": "code",
   "execution_count": null,
   "metadata": {},
   "outputs": [],
   "source": [
    "import cv2\n",
    "import numpy as np\n",
    "from matplotlib import pyplot as plt\n",
    "  \n",
    "img = cv2.imread('./images/flemingo.jpg')\n",
    "  \n",
    "# cv2.imread() -> takes an image as an input\n",
    "h, w, channels = img.shape\n",
    "  \n",
    "half = w//2\n",
    "  \n",
    "  \n",
    "# this will be the first column\n",
    "left_part = img[:, :half] \n",
    "  \n",
    "# [:,:half] means all the rows and\n",
    "# all the columns upto index half\n",
    "  \n",
    "# this will be the second column\n",
    "right_part = img[:, half:]  \n",
    "  \n",
    "# [:,half:] means al the rows and all\n",
    "# the columns from index half to the end\n",
    "# cv2.imshow is used for displaying the image\n",
    "#cv2.imshow('Left part', left_part)\n",
    "#cv2.imshow('Right part', right_part)\n",
    "  \n",
    "# this is horizontal division\n",
    "half2 = h//2\n",
    "  \n",
    "topL = left_part[:half2, :]\n",
    "bottomL = left_part[half2:, :]\n",
    "\n",
    "cv2.imshow('Raw Image',img)\n",
    "  \n",
    "cv2.imshow('TopL', topL)\n",
    "cv2.imshow('BottomL', bottomL)\n",
    "\n",
    "topR = right_part[:half2, :]\n",
    "bottomR = right_part[half2:, :]\n",
    "  \n",
    "cv2.imshow('TopR', topR)\n",
    "cv2.imshow('BottomR', bottomR)\n",
    "  \n",
    "# saving all the images\n",
    "# cv2.imwrite() function will save the image \n",
    "# into your pc\n",
    "#cv2.imwrite('top.jpg', topL)\n",
    "#cv2.imwrite('bottom.jpg', bottomL)\n",
    "#cv2.imwrite('right.jpg', topR)\n",
    "#cv2.imwrite('left.jpg', bottomR)\n",
    "cv2.waitKey(0)\n",
    "cv2.destroyAllWindows()"
   ]
  },
  {
   "cell_type": "code",
   "execution_count": null,
   "metadata": {},
   "outputs": [],
   "source": []
  }
 ],
 "metadata": {
  "kernelspec": {
   "display_name": "Python 3",
   "language": "python",
   "name": "python3"
  },
  "language_info": {
   "codemirror_mode": {
    "name": "ipython",
    "version": 3
   },
   "file_extension": ".py",
   "mimetype": "text/x-python",
   "name": "python",
   "nbconvert_exporter": "python",
   "pygments_lexer": "ipython3",
   "version": "3.8.5"
  }
 },
 "nbformat": 4,
 "nbformat_minor": 5
}

{
 "cells": [
  {
   "cell_type": "code",
   "execution_count": 1,
   "id": "651e509a",
   "metadata": {},
   "outputs": [
    {
     "name": "stderr",
     "output_type": "stream",
     "text": [
      "Matplotlib is building the font cache; this may take a moment.\n"
     ]
    }
   ],
   "source": [
    "import cv2\n",
    "import numpy as np\n",
    "from matplotlib import pyplot as plt\n"
   ]
  },
  {
   "cell_type": "code",
   "execution_count": 2,
   "id": "6f801963",
   "metadata": {},
   "outputs": [],
   "source": [
    "img=cv2.imread('./images/flemingo.jpg')"
   ]
  },
  {
   "cell_type": "code",
   "execution_count": 3,
   "id": "81048cd4",
   "metadata": {},
   "outputs": [],
   "source": [
    "#translation(shifting)\n",
    "tx=100\n",
    "ty=150\n",
    "m=np.float32([[1,0,tx],[0,1,ty]])\n",
    "shifted_image=cv2.warpAffine(img,m,(img.shape[1],img.shape[0]))\n",
    "\n",
    "cv2.imshow('Shifted image',shifted_image)\n",
    "cv2.waitKey(0)\n",
    "cv2.destroyAllWindows()"
   ]
  },
  {
   "cell_type": "code",
   "execution_count": 4,
   "id": "cf1c1712",
   "metadata": {},
   "outputs": [],
   "source": [
    "#rotation\n",
    "\n",
    "center=(img.shape[1]//2,img.shape[0//2])\n",
    "\n",
    "m2=cv2.getRotationMatrix2D(center,45,1) #45=rotation degree\n",
    "\n",
    "rotated_img=cv2.warpAffine(img,m2,(img.shape[1],img.shape[0]))\n",
    "\n",
    "cv2.imshow('Rotated image',rotated_img)\n",
    "cv2.waitKey(0)\n",
    "cv2.destroyAllWindows()"
   ]
  },
  {
   "cell_type": "code",
   "execution_count": null,
   "id": "92f4fb63",
   "metadata": {},
   "outputs": [],
   "source": [
    "#resizing\n",
    "resized_img=cv2.resize(img,(300,300),interpolation=INTER_AREA)\n",
    "\n",
    "cv2.imshow('Resized image',resized_img)\n",
    "cv2.waitKey(0)\n",
    "cv2.destroyAllWindows()"
   ]
  }
 ],
 "metadata": {
  "kernelspec": {
   "display_name": "Python 3 (ipykernel)",
   "language": "python",
   "name": "python3"
  },
  "language_info": {
   "codemirror_mode": {
    "name": "ipython",
    "version": 3
   },
   "file_extension": ".py",
   "mimetype": "text/x-python",
   "name": "python",
   "nbconvert_exporter": "python",
   "pygments_lexer": "ipython3",
   "version": "3.10.0"
  }
 },
 "nbformat": 4,
 "nbformat_minor": 5
}

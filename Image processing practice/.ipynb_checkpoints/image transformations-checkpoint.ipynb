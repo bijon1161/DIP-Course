{
 "cells": [
  {
   "cell_type": "code",
   "execution_count": 1,
   "metadata": {},
   "outputs": [],
   "source": [
    "import cv2\n",
    "import numpy as np\n",
    "from matplotlib import pyplot as plt\n"
   ]
  },
  {
   "cell_type": "code",
   "execution_count": 2,
   "metadata": {},
   "outputs": [],
   "source": [
    "img=cv2.imread('./images/flemingo.jpg')"
   ]
  },
  {
   "cell_type": "code",
   "execution_count": 3,
   "metadata": {},
   "outputs": [],
   "source": [
    "#translation(shifting)\n",
    "tx=100\n",
    "ty=150\n",
    "m=np.float32([[1,0,tx],[0,1,ty]])\n",
    "shifted_image=cv2.warpAffine(img,m,(img.shape[1],img.shape[0]))\n",
    "\n",
    "cv2.imshow('Shifted image',shifted_image)\n",
    "cv2.waitKey(0)\n",
    "cv2.destroyAllWindows()"
   ]
  },
  {
   "cell_type": "code",
   "execution_count": 8,
   "metadata": {},
   "outputs": [],
   "source": [
    "#rotation\n",
    "\n",
    "center=(img.shape[1]//2,img.shape[0]//2)\n",
    "\n",
    "m2=cv2.getRotationMatrix2D(center,45,1) #45=rotation degree\n",
    "\n",
    "rotated_img=cv2.warpAffine(img,m2,(img.shape[1],img.shape[0]))\n",
    "\n",
    "cv2.imshow('Rotated image',rotated_img)\n",
    "cv2.waitKey(0)\n",
    "cv2.destroyAllWindows()"
   ]
  },
  {
   "cell_type": "code",
   "execution_count": 5,
   "metadata": {},
   "outputs": [],
   "source": [
    "#resizing\n",
    "resized_img=cv2.resize(img,(300,300),interpolation=cv2.INTER_AREA)\n",
    "\n",
    "cv2.imshow('Resized image',resized_img)\n",
    "cv2.waitKey(0)\n",
    "cv2.destroyAllWindows()"
   ]
  },
  {
   "cell_type": "code",
   "execution_count": 6,
   "metadata": {},
   "outputs": [],
   "source": [
    "#flipping\n",
    "flipped_img=cv2.flip(img,1)#flip code=1/-1/0\n",
    "\n",
    "cv2.imshow('flipped image',flipped_img)\n",
    "cv2.waitKey(0)\n",
    "cv2.destroyAllWindows()"
   ]
  },
  {
   "cell_type": "code",
   "execution_count": 9,
   "metadata": {},
   "outputs": [],
   "source": [
    "#cropping \n",
    "cropped_img=img[0:100,100:400]\n",
    "\n",
    "cv2.imshow('cropped image',cropped_img)\n",
    "cv2.waitKey(0)\n",
    "cv2.destroyAllWindows()"
   ]
  },
  {
   "cell_type": "code",
   "execution_count": null,
   "metadata": {},
   "outputs": [],
   "source": []
  }
 ],
 "metadata": {
  "kernelspec": {
   "display_name": "Python 3",
   "language": "python",
   "name": "python3"
  },
  "language_info": {
   "codemirror_mode": {
    "name": "ipython",
    "version": 3
   },
   "file_extension": ".py",
   "mimetype": "text/x-python",
   "name": "python",
   "nbconvert_exporter": "python",
   "pygments_lexer": "ipython3",
   "version": "3.8.5"
  }
 },
 "nbformat": 4,
 "nbformat_minor": 5
}

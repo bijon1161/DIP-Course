{
 "cells": [
  {
   "cell_type": "code",
   "execution_count": 1,
   "id": "9002b975",
   "metadata": {},
   "outputs": [],
   "source": [
    "import cv2\n",
    "import numpy as np\n",
    "from matplotlib import pyplot as plt"
   ]
  },
  {
   "cell_type": "code",
   "execution_count": 12,
   "id": "fac2841e",
   "metadata": {},
   "outputs": [],
   "source": [
    "img=cv2.imread('./images/j.png')"
   ]
  },
  {
   "cell_type": "code",
   "execution_count": 13,
   "id": "5451f834",
   "metadata": {},
   "outputs": [],
   "source": [
    "#erosion\n",
    "kernel=np.ones((5,5),dtype='uint8')\n",
    "\n",
    "img_eroded=cv2.erode(img,kernel,iterations=1)\n",
    "\n",
    "cv2.imshow('img eroded',img_eroded)\n",
    "cv2.waitKey(0)\n",
    "cv2.destroyAllWindows()"
   ]
  },
  {
   "cell_type": "code",
   "execution_count": 14,
   "id": "8beb98b9",
   "metadata": {},
   "outputs": [],
   "source": [
    "#dilation\n",
    "\n",
    "img_dilated=cv2.dilate(img,kernel,iterations=1)\n",
    "\n",
    "cv2.imshow('img_dilated',img_dilated)\n",
    "cv2.waitKey(0)\n",
    "cv2.destroyAllWindows()"
   ]
  },
  {
   "cell_type": "code",
   "execution_count": 15,
   "id": "27139669",
   "metadata": {},
   "outputs": [],
   "source": [
    "#opening\n",
    "\n",
    "img_opening=cv2.morphologyEx(img,cv2.MORPH_OPEN,kernel)\n",
    "\n",
    "cv2.imshow('img_opening',img_opening)\n",
    "cv2.waitKey(0)\n",
    "cv2.destroyAllWindows()"
   ]
  },
  {
   "cell_type": "code",
   "execution_count": 16,
   "id": "d2baa343",
   "metadata": {},
   "outputs": [],
   "source": [
    "#closing\n",
    "\n",
    "img_closing=cv2.morphologyEx(img,cv2.MORPH_CLOSE,kernel)\n",
    "\n",
    "cv2.imshow('img_closing',img_closing)\n",
    "cv2.waitKey(0)\n",
    "cv2.destroyAllWindows()"
   ]
  },
  {
   "cell_type": "code",
   "execution_count": 20,
   "id": "8d7e6ae3",
   "metadata": {},
   "outputs": [],
   "source": [
    "#edge detection *********\n",
    "\n",
    "img2=cv2.imread('./images/flemingo.jpg')\n",
    "\n",
    "img_gray=cv2.cvtColor(img2,cv2.COLOR_BGR2GRAY)\n",
    "img_blur=cv2.GaussianBlur(img_gray,(5,5),0)\n",
    "\n",
    "img_edges=cv2.Canny(image=img_blur,threshold1=100,threshold2=200)\n",
    "\n",
    "cv2.imshow('Edge detection',img_edges)\n",
    "cv2.waitKey(0)\n",
    "cv2.destroyAllWindows()"
   ]
  },
  {
   "cell_type": "code",
   "execution_count": null,
   "id": "286164eb",
   "metadata": {},
   "outputs": [],
   "source": []
  }
 ],
 "metadata": {
  "kernelspec": {
   "display_name": "Python 3 (ipykernel)",
   "language": "python",
   "name": "python3"
  },
  "language_info": {
   "codemirror_mode": {
    "name": "ipython",
    "version": 3
   },
   "file_extension": ".py",
   "mimetype": "text/x-python",
   "name": "python",
   "nbconvert_exporter": "python",
   "pygments_lexer": "ipython3",
   "version": "3.10.0"
  }
 },
 "nbformat": 4,
 "nbformat_minor": 5
}

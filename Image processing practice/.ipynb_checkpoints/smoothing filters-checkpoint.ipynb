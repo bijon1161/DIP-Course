{
 "cells": [
  {
   "cell_type": "code",
   "execution_count": 1,
   "id": "174e83bd",
   "metadata": {},
   "outputs": [],
   "source": [
    "import cv2\n",
    "import numpy as np\n",
    "from matplotlib import pyplot as plt"
   ]
  },
  {
   "cell_type": "code",
   "execution_count": 2,
   "id": "5510c0be",
   "metadata": {},
   "outputs": [],
   "source": [
    "img=cv2.imread('./images/flemingo.jpg')"
   ]
  },
  {
   "cell_type": "code",
   "execution_count": 4,
   "id": "bb84bb37",
   "metadata": {},
   "outputs": [],
   "source": [
    "#average blur\n",
    "\n",
    "blur_img3=cv2.blur(img,(3,3))\n",
    "\n",
    "cv2.imshow('average blur',blur_img3)\n",
    "cv2.waitKey(0)\n",
    "cv2.destroyAllWindows()"
   ]
  },
  {
   "cell_type": "code",
   "execution_count": 6,
   "id": "647a2df5",
   "metadata": {},
   "outputs": [],
   "source": [
    "#gaussian blur\n",
    "\n",
    "blur_gauss_img3=cv2.GaussianBlur(img,(3,3),0)\n",
    "\n",
    "cv2.imshow('gaussian blur',blur_gauss_img3)\n",
    "cv2.waitKey(0)\n",
    "cv2.destroyAllWindows()"
   ]
  },
  {
   "cell_type": "code",
   "execution_count": null,
   "id": "e4a30f2e",
   "metadata": {},
   "outputs": [],
   "source": [
    "#median blur\n",
    "\n",
    "blur_median_img3=cv2.medianBlur(img,3)\n",
    "\n",
    "cv2.imshow('median blur',blur_median_img3)\n",
    "cv2.waitKey(0)\n",
    "cv2.destroyAllWindows()"
   ]
  },
  {
   "cell_type": "code",
   "execution_count": null,
   "id": "d5f6fc61",
   "metadata": {},
   "outputs": [],
   "source": []
  }
 ],
 "metadata": {
  "kernelspec": {
   "display_name": "Python 3 (ipykernel)",
   "language": "python",
   "name": "python3"
  },
  "language_info": {
   "codemirror_mode": {
    "name": "ipython",
    "version": 3
   },
   "file_extension": ".py",
   "mimetype": "text/x-python",
   "name": "python",
   "nbconvert_exporter": "python",
   "pygments_lexer": "ipython3",
   "version": "3.10.0"
  }
 },
 "nbformat": 4,
 "nbformat_minor": 5
}

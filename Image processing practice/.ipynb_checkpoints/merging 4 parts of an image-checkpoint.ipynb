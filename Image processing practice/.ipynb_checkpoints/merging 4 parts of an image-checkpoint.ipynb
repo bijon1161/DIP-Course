{
 "cells": [
  {
   "cell_type": "code",
   "execution_count": 1,
   "metadata": {},
   "outputs": [],
   "source": [
    "\n",
    "# import cv2 library\n",
    "import cv2\n",
    "import numpy as np\n",
    "  \n",
    "# read the images\n",
    "img1 = cv2.imread('./images/flemingo.jpg')\n",
    "img2 = cv2.imread('./images/box.png')\n",
    "\n",
    "img1=np.resize(img1,img2.shape)"
   ]
  },
  {
   "cell_type": "code",
   "execution_count": 2,
   "metadata": {},
   "outputs": [],
   "source": [
    "# vertically concatenates images \n",
    "# of same width \n",
    "im_v = cv2.vconcat([img1, img2])\n",
    "  \n",
    "# show the output image\n",
    "cv2.imshow('sea_image jpg', im_v)\n",
    "cv2.waitKey(0)\n",
    "cv2.destroyAllWindows()"
   ]
  },
  {
   "cell_type": "code",
   "execution_count": 3,
   "metadata": {},
   "outputs": [],
   "source": [
    "\n",
    "# horizontally concatenates images\n",
    "# of same height \n",
    "im_h = cv2.hconcat([img2, img2])\n",
    "  \n",
    "# show the output image\n",
    "cv2.imshow('man_image.jpeg', im_h)"
   ]
  },
  {
   "cell_type": "code",
   "execution_count": null,
   "metadata": {},
   "outputs": [],
   "source": []
  }
 ],
 "metadata": {
  "kernelspec": {
   "display_name": "Python 3",
   "language": "python",
   "name": "python3"
  },
  "language_info": {
   "codemirror_mode": {
    "name": "ipython",
    "version": 3
   },
   "file_extension": ".py",
   "mimetype": "text/x-python",
   "name": "python",
   "nbconvert_exporter": "python",
   "pygments_lexer": "ipython3",
   "version": "3.8.5"
  }
 },
 "nbformat": 4,
 "nbformat_minor": 5
}
